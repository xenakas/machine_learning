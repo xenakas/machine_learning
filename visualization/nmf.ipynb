{
 "cells": [
  {
   "cell_type": "markdown",
   "metadata": {},
   "source": [
    "### Non-negative matrix factorization"
   ]
  },
  {
   "cell_type": "markdown",
   "metadata": {},
   "source": [
    "- dimension reduction\n",
    "- interpretable (unlike PCA)\n",
    "- all sample features must be non-negative"
   ]
  },
  {
   "cell_type": "markdown",
   "metadata": {},
   "source": [
    "NMF expresses documents as combinations of topics, images as combination of patterns\n"
   ]
  },
  {
   "cell_type": "code",
   "execution_count": 1,
   "metadata": {},
   "outputs": [],
   "source": [
    "from sklearn.decomposition import NMF"
   ]
  },
  {
   "cell_type": "code",
   "execution_count": 3,
   "metadata": {},
   "outputs": [
    {
     "data": {
      "text/plain": [
       "['100xp', 'and', 'apply', 'array']"
      ]
     },
     "execution_count": 3,
     "metadata": {},
     "output_type": "execute_result"
    }
   ],
   "source": [
    "from sklearn.feature_extraction.text import TfidfVectorizer\n",
    "\n",
    "tfidf = TfidfVectorizer()\n",
    "\n",
    "csr = tfidf.fit_transform(['INSTRUCTIONS 100XP',\n",
    "'Import TfidfVectorizer from sklearn.feature_extraction.text.',\n",
    "'Create a TfidfVectorizer instance called tfidf.',\n",
    "'Apply .fit_transform() method of tfidf to documents and assign the result to csr_mat. This is a word-frequency array in csr_matrix format.',\n",
    "'Inspect csr_mat by calling its .toarray() method and printing the result. This has been done for you.',\n",
    "'The columns of the array correspond to words. Get the list of words by calling the .get_feature_names() method of tfidf, and assign the result to words.'])\n",
    "\n",
    "words = tfidf.get_feature_names()\n",
    "words[:4]"
   ]
  },
  {
   "cell_type": "code",
   "execution_count": 4,
   "metadata": {},
   "outputs": [],
   "source": [
    "model = NMF(n_components=3)"
   ]
  },
  {
   "cell_type": "code",
   "execution_count": 5,
   "metadata": {},
   "outputs": [
    {
     "data": {
      "text/plain": [
       "NMF(alpha=0.0, beta_loss='frobenius', init=None, l1_ratio=0.0, max_iter=200,\n",
       "  n_components=3, random_state=None, shuffle=False, solver='cd',\n",
       "  tol=0.0001, verbose=0)"
      ]
     },
     "execution_count": 5,
     "metadata": {},
     "output_type": "execute_result"
    }
   ],
   "source": [
    "model.fit(csr)"
   ]
  },
  {
   "cell_type": "markdown",
   "metadata": {},
   "source": [
    "Features can be used to reconstruct the samples"
   ]
  },
  {
   "cell_type": "code",
   "execution_count": 8,
   "metadata": {},
   "outputs": [
    {
     "data": {
      "text/plain": [
       "array([[0.        , 0.        , 1.        ],\n",
       "       [0.        , 0.73715549, 0.        ],\n",
       "       [0.02273933, 0.73104802, 0.        ],\n",
       "       [0.68738356, 0.01115013, 0.        ],\n",
       "       [0.53375894, 0.        , 0.        ],\n",
       "       [0.69457824, 0.        , 0.        ]])"
      ]
     },
     "execution_count": 8,
     "metadata": {},
     "output_type": "execute_result"
    }
   ],
   "source": [
    "nmf_features = model.transform(csr)\n",
    "nmf_features"
   ]
  },
  {
   "cell_type": "code",
   "execution_count": 11,
   "metadata": {},
   "outputs": [
    {
     "data": {
      "text/plain": [
       "array([0.        , 0.        , 0.        , 0.        , 0.        ,\n",
       "       0.        , 0.        , 0.        , 0.        , 0.        ,\n",
       "       0.        , 0.        , 0.        , 0.        , 0.        ,\n",
       "       0.        , 0.4198708 , 0.        , 0.        , 0.        ,\n",
       "       0.        , 0.4198708 , 0.        , 0.        , 0.        ,\n",
       "       0.4198708 , 0.        , 0.        , 0.        , 0.        ,\n",
       "       0.        , 0.        , 0.        , 0.        , 0.        ,\n",
       "       0.        , 0.        , 0.4198708 , 0.4198708 , 0.        ,\n",
       "       0.34430007, 0.        , 0.        , 0.        , 0.        ,\n",
       "       0.        , 0.        , 0.        ])"
      ]
     },
     "execution_count": 11,
     "metadata": {},
     "output_type": "execute_result"
    }
   ],
   "source": [
    "csr.toarray()[1]"
   ]
  },
  {
   "cell_type": "markdown",
   "metadata": {},
   "source": [
    "Dimension of components = dimension of samples"
   ]
  },
  {
   "cell_type": "code",
   "execution_count": 7,
   "metadata": {},
   "outputs": [
    {
     "data": {
      "text/plain": [
       "array([[0.        , 0.23443291, 0.13267166, 0.18201299, 0.18201299,\n",
       "        0.11665981, 0.16888304, 0.00248152, 0.16888304, 0.08929153,\n",
       "        0.08929153, 0.00248152, 0.20445538, 0.13267166, 0.13267166,\n",
       "        0.11665981, 0.        , 0.13267166, 0.11665981, 0.13267166,\n",
       "        0.13267166, 0.        , 0.08929153, 0.08929153, 0.11665981,\n",
       "        0.        , 0.13267166, 0.11665981, 0.00248152, 0.        ,\n",
       "        0.13267166, 0.11665981, 0.08929153, 0.23443291, 0.32845366,\n",
       "        0.11665981, 0.23443291, 0.        , 0.        , 0.15542011,\n",
       "        0.        , 0.48170345, 0.20445538, 0.36402599, 0.11665981,\n",
       "        0.13267166, 0.26787459, 0.11665981],\n",
       "       [0.        , 0.        , 0.        , 0.        , 0.        ,\n",
       "        0.        , 0.        , 0.33277847, 0.        , 0.        ,\n",
       "        0.        , 0.33277847, 0.        , 0.        , 0.        ,\n",
       "        0.        , 0.28712975, 0.        , 0.        , 0.        ,\n",
       "        0.        , 0.28712975, 0.        , 0.        , 0.        ,\n",
       "        0.28712975, 0.        , 0.        , 0.33277847, 0.        ,\n",
       "        0.        , 0.        , 0.        , 0.        , 0.        ,\n",
       "        0.        , 0.        , 0.28712975, 0.28712975, 0.22863779,\n",
       "        0.50837945, 0.        , 0.        , 0.        , 0.        ,\n",
       "        0.        , 0.        , 0.        ],\n",
       "       [0.70710678, 0.        , 0.        , 0.        , 0.        ,\n",
       "        0.        , 0.        , 0.        , 0.        , 0.        ,\n",
       "        0.        , 0.        , 0.        , 0.        , 0.        ,\n",
       "        0.        , 0.        , 0.        , 0.        , 0.        ,\n",
       "        0.        , 0.        , 0.        , 0.        , 0.        ,\n",
       "        0.        , 0.        , 0.        , 0.        , 0.70710678,\n",
       "        0.        , 0.        , 0.        , 0.        , 0.        ,\n",
       "        0.        , 0.        , 0.        , 0.        , 0.        ,\n",
       "        0.        , 0.        , 0.        , 0.        , 0.        ,\n",
       "        0.        , 0.        , 0.        ]])"
      ]
     },
     "execution_count": 7,
     "metadata": {},
     "output_type": "execute_result"
    }
   ],
   "source": [
    "model.components_"
   ]
  },
  {
   "cell_type": "markdown",
   "metadata": {},
   "source": [
    "#### Sample reconstruction\n",
    "\n",
    "- multiply components by feature values and add up\n"
   ]
  },
  {
   "cell_type": "code",
   "execution_count": null,
   "metadata": {},
   "outputs": [],
   "source": [
    "# Import pandas\n",
    "import pandas as pd\n",
    "\n",
    "# Create a pandas DataFrame: df\n",
    "df = pd.DataFrame(nmf_features, index=titles)\n",
    "\n",
    "# Print the row for 'Anne Hathaway'\n",
    "print(df.loc['Anne Hathaway'])\n",
    "\n",
    "# Print the row for 'Denzel Washington'\n",
    "print(df.loc['Denzel Washington']"
   ]
  }
 ],
 "metadata": {
  "kernelspec": {
   "display_name": "Python 3",
   "language": "python",
   "name": "python3"
  },
  "language_info": {
   "codemirror_mode": {
    "name": "ipython",
    "version": 3
   },
   "file_extension": ".py",
   "mimetype": "text/x-python",
   "name": "python",
   "nbconvert_exporter": "python",
   "pygments_lexer": "ipython3",
   "version": "3.6.5"
  }
 },
 "nbformat": 4,
 "nbformat_minor": 2
}
