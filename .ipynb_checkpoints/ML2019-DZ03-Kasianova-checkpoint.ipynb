{
 "cells": [
  {
   "cell_type": "code",
   "execution_count": null,
   "metadata": {},
   "outputs": [],
   "source": [
    "import numpy as np\n",
    "import pandas as pd\n",
    "import seaborn as sns\n",
    "import matplotlib.pyplot as plt\n",
    "from sklearn.utils import shuffle\n",
    "from sklearn.metrics import mean_squared_error, r2_score, make_scorer\n",
    "from sklearn.pipeline import Pipeline\n",
    "from sklearn.linear_model import LinearRegression, Ridge, Lasso, ElasticNet\n",
    "from sklearn.preprocessing import MinMaxScaler, Normalizer, StandardScaler, RobustScaler, LabelEncoder, PolynomialFeatures, KBinsDiscretizer\n",
    "from sklearn.model_selection import train_test_split, cross_val_score, GridSearchCV, KFold "
   ]
  },
  {
   "cell_type": "code",
   "execution_count": null,
   "metadata": {},
   "outputs": [],
   "source": [
    "data_diamonds = pd.read_csv(\"data/diamonds.csv\", index_col= 0) "
   ]
  },
  {
   "cell_type": "code",
   "execution_count": null,
   "metadata": {},
   "outputs": [],
   "source": [
    "sns.set()\n",
    "sns.pairplot(data_diamonds.iloc[:,:-3], kind='reg', diag_kind=\"kde\",  plot_kws={'line_kws':{'color':'red'}, 'scatter_kws': {'alpha': 0.1}});"
   ]
  },
  {
   "cell_type": "code",
   "execution_count": null,
   "metadata": {},
   "outputs": [],
   "source": [
    "fig, axes = plt.subplots(7, 1, figsize=(5, 10))\n",
    "ax = axes.ravel()\n",
    "for i,j in enumerate([0,4,5,6,7,8,9]):\n",
    "    f, bins = np.histogram(data_diamonds.iloc[:, j], bins=50)\n",
    "    ax[i].hist(data_diamonds.iloc[:, j], bins=bins, alpha=.5)\n",
    "    ax[i].set_title(data_diamonds.columns.values[j])\n",
    "    ax[i].set_yticks(())\n",
    "fig.tight_layout()"
   ]
  },
  {
   "cell_type": "markdown",
   "metadata": {},
   "source": [
    "##### Удалим выбросы и нули по x, y, z"
   ]
  },
  {
   "cell_type": "code",
   "execution_count": null,
   "metadata": {},
   "outputs": [],
   "source": [
    "data_wo_out = data_diamonds[data_diamonds.y<=10]"
   ]
  },
  {
   "cell_type": "code",
   "execution_count": null,
   "metadata": {},
   "outputs": [],
   "source": [
    "data_wo_out = data_wo_out[data_wo_out.z<=6]"
   ]
  },
  {
   "cell_type": "code",
   "execution_count": null,
   "metadata": {},
   "outputs": [],
   "source": [
    "data_wo_out = data_wo_out[~(data_wo_out['x']==0) & ~(data_wo_out['y']==0) & ~(data_wo_out['z']==0)]"
   ]
  },
  {
   "cell_type": "code",
   "execution_count": null,
   "metadata": {},
   "outputs": [],
   "source": [
    "fig, axes = plt.subplots(3, 1, figsize=(10, 5))\n",
    "ax = axes.ravel()\n",
    "for i,j in enumerate([7,8,9]):\n",
    "    f, bins = np.histogram(data_wo_out.iloc[:, j], bins=50)\n",
    "    ax[i].hist(data_wo_out.iloc[:, j], bins=bins, alpha=.5)\n",
    "    ax[i].set_title(data_wo_out.columns.values[j])\n",
    "    ax[i].set_yticks(())\n",
    "fig.tight_layout()"
   ]
  },
  {
   "cell_type": "markdown",
   "metadata": {},
   "source": [
    "##### Создадим фичи объем и плотность алмаза"
   ]
  },
  {
   "cell_type": "code",
   "execution_count": null,
   "metadata": {},
   "outputs": [],
   "source": [
    "data_wo_out['volume'] = data_wo_out['x']*data_wo_out['y']*data_wo_out['z']"
   ]
  },
  {
   "cell_type": "code",
   "execution_count": null,
   "metadata": {},
   "outputs": [],
   "source": [
    "data_wo_out['density'] = data_wo_out['carat'] /data_wo_out['volume'] "
   ]
  },
  {
   "cell_type": "code",
   "execution_count": null,
   "metadata": {},
   "outputs": [],
   "source": [
    "fig, axes = plt.subplots(2, 1, figsize=(10, 5))\n",
    "ax = axes.ravel()\n",
    "for i,j in enumerate([-2,-1]):\n",
    "    f, bins = np.histogram(data_wo_out.iloc[:, j], bins=50)\n",
    "    ax[i].hist(data_wo_out.iloc[:, j], bins=bins, alpha=.5)\n",
    "    ax[i].set_title(data_wo_out.columns.values[j])\n",
    "    ax[i].set_yticks(())\n",
    "fig.tight_layout()"
   ]
  },
  {
   "cell_type": "markdown",
   "metadata": {},
   "source": [
    "##### Пометим алмазы с сомнительной плотностью"
   ]
  },
  {
   "cell_type": "code",
   "execution_count": null,
   "metadata": {},
   "outputs": [],
   "source": [
    "data_wo_out['bad'] = (data_wo_out['density'] < 0.0055)|(data_wo_out['density'] > 0.007)"
   ]
  },
  {
   "cell_type": "code",
   "execution_count": null,
   "metadata": {},
   "outputs": [],
   "source": [
    "fig, axes = plt.subplots(2, 1, figsize=(10, 5))\n",
    "ax = axes.ravel()\n",
    "for i,j in enumerate([-3,-2]):\n",
    "    f, bins = np.histogram(data_wo_out[data_wo_out['bad'] == False].iloc[:, j], bins=50)\n",
    "    ax[i].hist(data_wo_out[data_wo_out['bad'] == False].iloc[:, j], bins=bins, alpha=.5)\n",
    "    ax[i].set_title(data_wo_out[data_wo_out['bad'] == False].columns.values[j])\n",
    "    ax[i].set_yticks(())\n",
    "fig.tight_layout()"
   ]
  },
  {
   "cell_type": "code",
   "execution_count": null,
   "metadata": {},
   "outputs": [],
   "source": [
    "data_wo_out['bad'] = pd.get_dummies(data_wo_out['bad'],drop_first=True)"
   ]
  },
  {
   "cell_type": "markdown",
   "metadata": {},
   "source": [
    "#### [Создадим факторные переменные  ](https://ggplot2.tidyverse.org/reference/diamonds.html)"
   ]
  },
  {
   "cell_type": "markdown",
   "metadata": {},
   "source": [
    "##### Качество огранки (Fair, Good, Very Good, Premium, Ideal)"
   ]
  },
  {
   "cell_type": "code",
   "execution_count": null,
   "metadata": {
    "scrolled": true
   },
   "outputs": [],
   "source": [
    "data_wo_out['cut'].unique()"
   ]
  },
  {
   "cell_type": "code",
   "execution_count": null,
   "metadata": {},
   "outputs": [],
   "source": [
    "data_wo_out['cut'] = data_wo_out['cut'].replace({'Fair':0, 'Good':1, 'Very Good':2, 'Premium':3, 'Ideal':4})"
   ]
  },
  {
   "cell_type": "code",
   "execution_count": null,
   "metadata": {},
   "outputs": [],
   "source": [
    "sns.boxplot(x='cut',y='price',data=data_wo_out,palette='rainbow')"
   ]
  },
  {
   "cell_type": "markdown",
   "metadata": {},
   "source": [
    "##### Прозрачность (I1 (worst), SI2, SI1, VS2, VS1, VVS2, VVS1, IF (best))\n",
    "    "
   ]
  },
  {
   "cell_type": "code",
   "execution_count": null,
   "metadata": {},
   "outputs": [],
   "source": [
    "data_wo_out['clarity'].unique()"
   ]
  },
  {
   "cell_type": "code",
   "execution_count": null,
   "metadata": {},
   "outputs": [],
   "source": [
    "data_wo_out['clarity'] = data_wo_out['clarity'].replace({'I1':0, 'SI2':1, 'SI1':2, 'VS2':3, 'VS1':4, 'VVS2':5, 'VVS1':6, 'IF':7})"
   ]
  },
  {
   "cell_type": "code",
   "execution_count": null,
   "metadata": {},
   "outputs": [],
   "source": [
    "sns.boxplot(x='clarity',y='price',data=data_wo_out,palette='rainbow')"
   ]
  },
  {
   "cell_type": "markdown",
   "metadata": {},
   "source": [
    "#####  Цвет (J (worst) to D (best))"
   ]
  },
  {
   "cell_type": "code",
   "execution_count": null,
   "metadata": {},
   "outputs": [],
   "source": [
    "data_wo_out['color'].unique()"
   ]
  },
  {
   "cell_type": "markdown",
   "metadata": {},
   "source": [
    "##### [Дамми по группам цвета](https://awesomegems.com/diamondfacts.html)"
   ]
  },
  {
   "cell_type": "markdown",
   "metadata": {},
   "source": [
    "-  D-F - the finest & brightest colorless diamonds, usually for the discriminating customer who can afford the most beautiful and the rare.\n",
    "- G-H - very white & bright face-up, near colorless diamonds that are not as expensive, and when mounted in jewelry it is difficult to see the the difference between these and the higher color grades.\n",
    "- I-J - not quite as bright or have very slight hardly noticeable tint.\n"
   ]
  },
  {
   "cell_type": "code",
   "execution_count": null,
   "metadata": {},
   "outputs": [],
   "source": [
    "data_wo_out['color_group'] = data_wo_out['color'].replace({'D':2,'E':2,'F':2,'G':1,'H':1,'I':0,'J':0})"
   ]
  },
  {
   "cell_type": "code",
   "execution_count": null,
   "metadata": {},
   "outputs": [],
   "source": [
    "sns.boxplot(x='color_group',y='price',data=data_wo_out,palette='rainbow')"
   ]
  },
  {
   "cell_type": "code",
   "execution_count": null,
   "metadata": {},
   "outputs": [],
   "source": [
    "data_wo_out['color'] = data_wo_out['color'].replace({'D':6,'E':5,'F':4,'G':3,'H':2,'I':1,'J':0})"
   ]
  },
  {
   "cell_type": "code",
   "execution_count": null,
   "metadata": {},
   "outputs": [],
   "source": [
    "sns.boxplot(x='color',y='price',data=data_wo_out,palette='rainbow')"
   ]
  },
  {
   "cell_type": "code",
   "execution_count": null,
   "metadata": {},
   "outputs": [],
   "source": [
    "dumdum = pd.get_dummies(data_wo_out['color_group'], drop_first=True)"
   ]
  },
  {
   "cell_type": "code",
   "execution_count": null,
   "metadata": {},
   "outputs": [],
   "source": [
    "data_wo_out = pd.concat([data_wo_out,dumdum], axis=1)"
   ]
  },
  {
   "cell_type": "markdown",
   "metadata": {},
   "source": [
    "#####  Создадим бины по весу"
   ]
  },
  {
   "cell_type": "code",
   "execution_count": null,
   "metadata": {},
   "outputs": [],
   "source": [
    "data_ext = data_wo_out.copy()"
   ]
  },
  {
   "cell_type": "code",
   "execution_count": null,
   "metadata": {},
   "outputs": [],
   "source": [
    "np.array(data_ext['carat']).reshape(1, -1)"
   ]
  },
  {
   "cell_type": "code",
   "execution_count": null,
   "metadata": {},
   "outputs": [],
   "source": [
    "kb_ord = KBinsDiscretizer(n_bins=20, strategy='kmeans', encode='ordinal')\n",
    "kb_ord.fit(data_ext[['carat']])\n",
    "data_ord = kb_ord.transform(data_ext[['carat']])\n",
    "data_ord[:5]"
   ]
  },
  {
   "cell_type": "code",
   "execution_count": null,
   "metadata": {},
   "outputs": [],
   "source": [
    "pd.value_counts(pd.Series(data_ord.flatten()))"
   ]
  },
  {
   "cell_type": "code",
   "execution_count": null,
   "metadata": {},
   "outputs": [],
   "source": [
    "data_ext['carat_ord'] = data_ord"
   ]
  },
  {
   "cell_type": "code",
   "execution_count": null,
   "metadata": {},
   "outputs": [],
   "source": [
    "sns.boxplot(x='carat_ord',y='price',data=data_ext,palette='rainbow')"
   ]
  },
  {
   "cell_type": "markdown",
   "metadata": {},
   "source": [
    "##### Комбинация качеств"
   ]
  },
  {
   "cell_type": "code",
   "execution_count": null,
   "metadata": {},
   "outputs": [],
   "source": [
    "data_wo_out['score'] = 2*data_wo_out['cut'] + data_wo_out['color'] + data_wo_out['clarity']\n",
    "data_ext['score_2'] = 2*data_ext['cut'] + data_ext['color'] + data_wo_out['clarity'] + data_ext['carat_ord']/3\n",
    "data_ext['score_3'] = (2*data_ext['cut'] + data_ext['color'] + data_wo_out['clarity'])*data_ext['carat_ord']"
   ]
  },
  {
   "cell_type": "code",
   "execution_count": null,
   "metadata": {},
   "outputs": [],
   "source": [
    "data_ext.shape"
   ]
  },
  {
   "cell_type": "code",
   "execution_count": null,
   "metadata": {},
   "outputs": [],
   "source": [
    "plt.figure(figsize=(20,20)) \n",
    "sns.heatmap(data_ext.corr(), cmap='RdYlGn',square=True);  "
   ]
  },
  {
   "cell_type": "markdown",
   "metadata": {},
   "source": [
    "#####  Создадим полиномиальные фичи"
   ]
  },
  {
   "cell_type": "code",
   "execution_count": null,
   "metadata": {},
   "outputs": [],
   "source": [
    "num_feat = ['carat', 'volume', 'density', 'depth', 'table']"
   ]
  },
  {
   "cell_type": "code",
   "execution_count": null,
   "metadata": {},
   "outputs": [],
   "source": [
    "for i in num_feat:\n",
    "    data_ext[i+'_log'] = np.log(data_ext[i])"
   ]
  },
  {
   "cell_type": "code",
   "execution_count": null,
   "metadata": {},
   "outputs": [],
   "source": [
    "poly = PolynomialFeatures(degree=3, include_bias=False)\n",
    "poly.fit(data_ext[num_feat])\n",
    "data_poly = poly.transform(data_ext[num_feat])\n",
    "data_poly = pd.DataFrame(data_poly)\n",
    "data_poly.columns = poly.get_feature_names()\n",
    "data_poly.index = data_ext.index"
   ]
  },
  {
   "cell_type": "code",
   "execution_count": null,
   "metadata": {},
   "outputs": [],
   "source": [
    "data_ext = pd.concat([data_ext, data_poly.iloc[:,5:]], axis=1)"
   ]
  },
  {
   "cell_type": "markdown",
   "metadata": {},
   "source": [
    "#### Выбираем линейную модель"
   ]
  },
  {
   "cell_type": "code",
   "execution_count": null,
   "metadata": {},
   "outputs": [],
   "source": [
    "data_ext = shuffle(data_ext) # always shuffle your data to avoid any biases that may emerge b/c of some order."
   ]
  },
  {
   "cell_type": "code",
   "execution_count": null,
   "metadata": {},
   "outputs": [],
   "source": [
    "Y = data_ext['price']\n",
    "X = data_ext.drop(columns=['price'])"
   ]
  },
  {
   "cell_type": "code",
   "execution_count": null,
   "metadata": {},
   "outputs": [],
   "source": [
    "X_train,X_test,Y_train,Y_test=train_test_split(X,Y,test_size=0.3,random_state=42)"
   ]
  },
  {
   "cell_type": "code",
   "execution_count": null,
   "metadata": {},
   "outputs": [],
   "source": [
    "pipe = Pipeline([('linmod', LinearRegression())])\n",
    "\n",
    "param_grid = [{'linmod': [LinearRegression()],\n",
    "               'linmod__fit_intercept': [True, False]},\n",
    "              {'linmod': [Ridge()],\n",
    "               'linmod__alpha': [10**(x-5) for x in np.linspace(start = 1, stop = 10, num = 10)],\n",
    "               'linmod__normalize': [True, False]},\n",
    "              {'linmod': [Lasso()],\n",
    "               'linmod__alpha': [10**(x-5) for x in np.linspace(start = 1, stop = 10, num = 10)],\n",
    "               'linmod__normalize': [True, False]}\n",
    "             ]\n",
    "\n",
    "kfold = KFold(n_splits=10, shuffle=True, random_state=42)"
   ]
  },
  {
   "cell_type": "code",
   "execution_count": null,
   "metadata": {},
   "outputs": [],
   "source": [
    "ms_error = make_scorer(mean_squared_error, greater_is_better=False)"
   ]
  },
  {
   "cell_type": "code",
   "execution_count": null,
   "metadata": {},
   "outputs": [],
   "source": [
    "grid = GridSearchCV(pipe, param_grid, cv=kfold, return_train_score=True, iid=True, scoring = ms_error)\n",
    "grid.fit(X_train,Y_train)"
   ]
  },
  {
   "cell_type": "code",
   "execution_count": null,
   "metadata": {},
   "outputs": [],
   "source": [
    "print(\"----------------- Обучили и тестировали -------------------\")\n",
    "print(\"Наилучшие параметры:\\n{}\\n\".format(grid.best_params_))\n",
    "print(\"Средняя правильность для наилучшей модели кроссвалидации на валидационных тестовых наборах: {:.6f}\\n\".format(-grid.best_score_)) \n",
    "print(\"Правильность для наилучшей модели на тестовом наборе: {:.6f}\\n\".format(-grid.score(X_test, Y_test)))\n",
    "gridresults = pd.DataFrame(grid.cv_results_)\n",
    "gridresults[gridresults.columns.values[[x.startswith('split') for x in gridresults.columns.values]]] = - gridresults[gridresults.columns.values[[x.startswith('split') for x in gridresults.columns.values]]]\n",
    "gridresults[gridresults.columns.values[[x.startswith('mean_t') for x in gridresults.columns.values]]] = - gridresults[gridresults.columns.values[[x.startswith('mean_t') for x in gridresults.columns.values]]]\n",
    "display(gridresults.sort_values([\"rank_test_score\"]).T)"
   ]
  }
 ],
 "metadata": {
  "kernelspec": {
   "display_name": "Python 3",
   "language": "python",
   "name": "python3"
  },
  "language_info": {
   "codemirror_mode": {
    "name": "ipython",
    "version": 3
   },
   "file_extension": ".py",
   "mimetype": "text/x-python",
   "name": "python",
   "nbconvert_exporter": "python",
   "pygments_lexer": "ipython3",
   "version": "3.6.5"
  }
 },
 "nbformat": 4,
 "nbformat_minor": 2
}
