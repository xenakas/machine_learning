{
 "cells": [
  {
   "cell_type": "markdown",
   "metadata": {},
   "source": [
    "## Regression Metrics"
   ]
  },
  {
   "cell_type": "code",
   "execution_count": 1,
   "metadata": {},
   "outputs": [],
   "source": [
    "import numpy as np\n",
    "import pandas as pd\n",
    "import matplotlib.pyplot as plt\n",
    "import seaborn as sns\n",
    "from sklearn.datasets import load_boston\n",
    "from sklearn.preprocessing import MinMaxScaler, PolynomialFeatures\n",
    "from sklearn.model_selection import train_test_split "
   ]
  },
  {
   "cell_type": "code",
   "execution_count": 24,
   "metadata": {},
   "outputs": [],
   "source": [
    "boston=load_boston()\n",
    "X_train, X_test, y_train, y_test = train_test_split(boston.data, boston.target, random_state=0) "
   ]
  },
  {
   "cell_type": "markdown",
   "metadata": {},
   "source": [
    "### LinearRegression"
   ]
  },
  {
   "cell_type": "code",
   "execution_count": 5,
   "metadata": {},
   "outputs": [],
   "source": [
    "from sklearn.linear_model import LinearRegression"
   ]
  },
  {
   "cell_type": "code",
   "execution_count": 9,
   "metadata": {},
   "outputs": [
    {
     "data": {
      "text/plain": [
       "array([ 3.69332555e+01, -1.17735289e-01,  4.40174969e-02, -5.76814314e-03,\n",
       "        2.39341594e+00, -1.55894211e+01,  3.76896770e+00, -7.03517828e-03,\n",
       "       -1.43495641e+00,  2.40081086e-01, -1.12972810e-02, -9.85546732e-01,\n",
       "        8.44443453e-03, -4.99116797e-01])"
      ]
     },
     "execution_count": 9,
     "metadata": {},
     "output_type": "execute_result"
    }
   ],
   "source": [
    "boston_st_non = LinearRegression()\n",
    "boston_st_non.fit(X_train, y_train)\n",
    "np.append(boston_st_non.intercept_, boston_st_non.coef_)"
   ]
  },
  {
   "cell_type": "code",
   "execution_count": 10,
   "metadata": {},
   "outputs": [
    {
     "name": "stdout",
     "output_type": "stream",
     "text": [
      "R2 train: 0.77\n",
      "R2 test: 0.64\n"
     ]
    }
   ],
   "source": [
    "print(\"R2 train: {:.2f}\".format(boston_st_non.score(X_train, y_train))) \n",
    "print(\"R2 test: {:.2f}\".format(boston_st_non.score(X_test, y_test)))"
   ]
  },
  {
   "cell_type": "code",
   "execution_count": 11,
   "metadata": {},
   "outputs": [
    {
     "data": {
      "text/plain": [
       "array([ 27.49272791, -10.47489456,   4.40174969,  -0.15735494,\n",
       "         2.39341594,  -7.57645867,  19.67024242,  -0.68311581,\n",
       "       -15.71607313,   5.52186497,  -5.91977522,  -9.26413928,\n",
       "         3.34889385, -17.59386711])"
      ]
     },
     "execution_count": 11,
     "metadata": {},
     "output_type": "execute_result"
    }
   ],
   "source": [
    "from sklearn.pipeline import make_pipeline\n",
    "boston_st = make_pipeline( MinMaxScaler(), LinearRegression() )\n",
    "boston_st.fit(X_train, y_train)\n",
    "np.append(boston_st.named_steps['linearregression'].intercept_,\n",
    "          boston_st.named_steps['linearregression'].coef_\n",
    "           )"
   ]
  },
  {
   "cell_type": "code",
   "execution_count": 12,
   "metadata": {},
   "outputs": [
    {
     "name": "stdout",
     "output_type": "stream",
     "text": [
      "R-квадрат обучение: 0.77\n",
      "R-квадрат тест: 0.64\n"
     ]
    }
   ],
   "source": [
    "print(\"R-квадрат обучение: {:.2f}\".format(boston_st.score(X_train, y_train))) \n",
    "print(\"R-квадрат тест: {:.2f}\".format(boston_st.score(X_test, y_test)))"
   ]
  },
  {
   "cell_type": "markdown",
   "metadata": {},
   "source": [
    "##### Adding Polynomial Features"
   ]
  },
  {
   "cell_type": "code",
   "execution_count": 13,
   "metadata": {},
   "outputs": [],
   "source": [
    "def load_extended_boston():\n",
    "    boston = load_boston()\n",
    "    X = boston.data\n",
    "    X = MinMaxScaler().fit_transform(boston.data)\n",
    "    X = PolynomialFeatures(degree=2, include_bias=False).fit_transform(X)\n",
    "    return X, boston.target"
   ]
  },
  {
   "cell_type": "code",
   "execution_count": 39,
   "metadata": {},
   "outputs": [
    {
     "data": {
      "text/plain": [
       "(506, 13)"
      ]
     },
     "execution_count": 39,
     "metadata": {},
     "output_type": "execute_result"
    }
   ],
   "source": [
    "X, y = boston.data, boston.target\n",
    "X.shape"
   ]
  },
  {
   "cell_type": "code",
   "execution_count": 40,
   "metadata": {},
   "outputs": [
    {
     "data": {
      "text/plain": [
       "(506, 104)"
      ]
     },
     "execution_count": 40,
     "metadata": {},
     "output_type": "execute_result"
    }
   ],
   "source": [
    "X_ext,y_ext = load_extended_boston()\n",
    "X_ext.shape"
   ]
  },
  {
   "cell_type": "code",
   "execution_count": 41,
   "metadata": {},
   "outputs": [
    {
     "data": {
      "text/plain": [
       "Pipeline(memory=None,\n",
       "     steps=[('minmaxscaler', MinMaxScaler(copy=True, feature_range=(0, 1))), ('polynomialfeatures', PolynomialFeatures(degree=2, include_bias=False, interaction_only=False)), ('linearregression', LinearRegression(copy_X=True, fit_intercept=True, n_jobs=None,\n",
       "         normalize=False))])"
      ]
     },
     "execution_count": 41,
     "metadata": {},
     "output_type": "execute_result"
    }
   ],
   "source": [
    "boston_ex = make_pipeline(MinMaxScaler(),\n",
    "                          PolynomialFeatures(degree=2, include_bias=False), \n",
    "                          LinearRegression() \n",
    "                         )\n",
    "boston_ex.fit(X_train, y_train)"
   ]
  },
  {
   "cell_type": "code",
   "execution_count": 42,
   "metadata": {},
   "outputs": [
    {
     "name": "stdout",
     "output_type": "stream",
     "text": [
      "R-квадрат обучение: 0.95\n",
      "R-квадрат тест: 0.61\n"
     ]
    }
   ],
   "source": [
    "print(\"R-квадрат обучение: {:.2f}\".format(boston_ex.score(X_train, y_train))) \n",
    "print(\"R-квадрат тест: {:.2f}\".format(boston_ex.score(X_test, y_test)))"
   ]
  },
  {
   "cell_type": "markdown",
   "metadata": {},
   "source": [
    "### Ridge"
   ]
  },
  {
   "cell_type": "code",
   "execution_count": 43,
   "metadata": {},
   "outputs": [],
   "source": [
    "from sklearn.linear_model import Ridge"
   ]
  },
  {
   "cell_type": "code",
   "execution_count": 44,
   "metadata": {},
   "outputs": [
    {
     "data": {
      "text/plain": [
       "Pipeline(memory=None,\n",
       "     steps=[('polynomialfeatures', PolynomialFeatures(degree=2, include_bias=False, interaction_only=False)), ('ridge', Ridge(alpha=1.0, copy_X=True, fit_intercept=True, max_iter=None,\n",
       "   normalize=False, random_state=None, solver='auto', tol=0.001))])"
      ]
     },
     "execution_count": 44,
     "metadata": {},
     "output_type": "execute_result"
    }
   ],
   "source": [
    "boston_ridge_non = make_pipeline(\n",
    "                             PolynomialFeatures(degree=2, include_bias=False), \n",
    "                             Ridge() \n",
    "                            )\n",
    "boston_ridge_non.fit(X_train, y_train) # без Scaler штафы за евклидово расстояние"
   ]
  },
  {
   "cell_type": "code",
   "execution_count": 45,
   "metadata": {},
   "outputs": [
    {
     "name": "stdout",
     "output_type": "stream",
     "text": [
      "R-квадрат обучение: 0.95\n",
      "R-квадрат тест: 0.61\n"
     ]
    }
   ],
   "source": [
    "print(\"R-квадрат обучение: {:.2f}\".format(boston_ridge_non.score(X_train, y_train))) \n",
    "print(\"R-квадрат тест: {:.2f}\".format(boston_ridge_non.score(X_test, y_test)))"
   ]
  },
  {
   "cell_type": "code",
   "execution_count": 46,
   "metadata": {},
   "outputs": [
    {
     "data": {
      "text/plain": [
       "Pipeline(memory=None,\n",
       "     steps=[('minmaxscaler', MinMaxScaler(copy=True, feature_range=(0, 1))), ('polynomialfeatures', PolynomialFeatures(degree=2, include_bias=False, interaction_only=False)), ('ridge', Ridge(alpha=1.0, copy_X=True, fit_intercept=True, max_iter=None,\n",
       "   normalize=False, random_state=None, solver='auto', tol=0.001))])"
      ]
     },
     "execution_count": 46,
     "metadata": {},
     "output_type": "execute_result"
    }
   ],
   "source": [
    "boston_ridge = make_pipeline(MinMaxScaler(),\n",
    "                          PolynomialFeatures(degree=2, include_bias=False), \n",
    "                          Ridge() \n",
    "                         )\n",
    "boston_ridge.fit(X_train, y_train)"
   ]
  },
  {
   "cell_type": "code",
   "execution_count": 92,
   "metadata": {},
   "outputs": [
    {
     "data": {
      "text/plain": [
       "array([ True,  True,  True,  True,  True,  True,  True,  True,  True,\n",
       "        True,  True,  True,  True,  True, False,  True,  True,  True,\n",
       "        True,  True,  True,  True,  True,  True,  True,  True,  True,\n",
       "        True,  True,  True,  True,  True,  True, False,  True,  True,\n",
       "        True,  True,  True,  True,  True,  True,  True,  True,  True,\n",
       "        True,  True,  True,  True,  True,  True,  True,  True,  True,\n",
       "        True,  True,  True,  True,  True,  True,  True,  True,  True,\n",
       "        True,  True,  True,  True,  True,  True,  True,  True,  True,\n",
       "        True,  True,  True,  True,  True,  True,  True,  True,  True,\n",
       "        True,  True,  True,  True,  True, False,  True,  True, False,\n",
       "        True,  True,  True,  True,  True,  True,  True,  True,  True,\n",
       "        True,  True,  True,  True,  True])"
      ]
     },
     "execution_count": 92,
     "metadata": {},
     "output_type": "execute_result"
    }
   ],
   "source": [
    "np.abs(boston_ridge.named_steps['ridge'].coef_) > 0.1"
   ]
  },
  {
   "cell_type": "code",
   "execution_count": 47,
   "metadata": {},
   "outputs": [
    {
     "name": "stdout",
     "output_type": "stream",
     "text": [
      "R-квадрат обучение: 0.89\n",
      "R-квадрат тест: 0.75\n"
     ]
    }
   ],
   "source": [
    "print(\"R-квадрат обучение: {:.2f}\".format(boston_ridge.score(X_train, y_train))) \n",
    "print(\"R-квадрат тест: {:.2f}\".format(boston_ridge.score(X_test, y_test)))"
   ]
  },
  {
   "cell_type": "code",
   "execution_count": 48,
   "metadata": {},
   "outputs": [],
   "source": [
    "from sklearn.model_selection import cross_val_score, GridSearchCV, KFold "
   ]
  },
  {
   "cell_type": "code",
   "execution_count": 51,
   "metadata": {},
   "outputs": [
    {
     "data": {
      "text/plain": [
       "GridSearchCV(cv=KFold(n_splits=10, random_state=0, shuffle=True),\n",
       "       error_score='raise-deprecating',\n",
       "       estimator=Pipeline(memory=None,\n",
       "     steps=[('minmaxscaler', MinMaxScaler(copy=True, feature_range=(0, 1))), ('polynomialfeatures', PolynomialFeatures(degree=2, include_bias=False, interaction_only=False)), ('ridge', Ridge(alpha=1.0, copy_X=True, fit_intercept=True, max_iter=None,\n",
       "   normalize=False, random_state=None, solver='auto', tol=0.001))]),\n",
       "       fit_params=None, iid=True, n_jobs=None,\n",
       "       param_grid=[{'ridge__alpha': [0.01, 0.05, 0.1, 0.25, 0.5, 1, 2, 4, 6, 8, 10]}],\n",
       "       pre_dispatch='2*n_jobs', refit=True, return_train_score=True,\n",
       "       scoring=None, verbose=0)"
      ]
     },
     "execution_count": 51,
     "metadata": {},
     "output_type": "execute_result"
    }
   ],
   "source": [
    "kfold = KFold(n_splits=10, shuffle=True, random_state=0)\n",
    "param_grid =[\n",
    "    {'ridge__alpha':[0.01,0.05,0.1,0.25,0.5,1,2,4,6,8,10]}\n",
    "     ]\n",
    "grid = GridSearchCV(boston_ridge, param_grid, cv=kfold, return_train_score=True, iid=True)\n",
    "grid.fit(X_train,y_train)"
   ]
  },
  {
   "cell_type": "code",
   "execution_count": 52,
   "metadata": {},
   "outputs": [
    {
     "name": "stdout",
     "output_type": "stream",
     "text": [
      "Best parameters: {'ridge__alpha': 0.05}\n",
      "\n",
      "Best train R2: 0.870571\n",
      "\n",
      "Test R2: 0.761432\n",
      "\n"
     ]
    }
   ],
   "source": [
    "print(\"Best parameters: {}\\n\".format(grid.best_params_))\n",
    "print(\"Best train R2: {:.6f}\\n\".format(grid.best_score_)) \n",
    "print(\"Test R2: {:.6f}\\n\".format(grid.score(X_test, y_test)))"
   ]
  },
  {
   "cell_type": "markdown",
   "metadata": {},
   "source": [
    "#### [Plotting Learning Curves](https://scikit-learn.org/stable/auto_examples/model_selection/plot_learning_curve.html#sphx-glr-auto-examples-model-selection-plot-learning-curve-py)"
   ]
  },
  {
   "cell_type": "code",
   "execution_count": 53,
   "metadata": {},
   "outputs": [],
   "source": [
    "from sklearn.model_selection import learning_curve\n",
    "from sklearn.model_selection import ShuffleSplit"
   ]
  },
  {
   "cell_type": "code",
   "execution_count": 54,
   "metadata": {},
   "outputs": [],
   "source": [
    "def plot_learning_curve(estimator, title, X, y, ylim=None, cv=None,\n",
    "                        n_jobs=None, train_sizes=np.linspace(.1, 1.0, 10)):\n",
    "    plt.figure()\n",
    "    plt.title(title)\n",
    "    if ylim is not None:\n",
    "        plt.ylim(*ylim)\n",
    "    plt.xlabel(\"Training examples\")\n",
    "    plt.ylabel(\"Score\")\n",
    "    train_sizes, train_scores, test_scores = learning_curve(\n",
    "        estimator, X, y, cv=cv, n_jobs=n_jobs, train_sizes=train_sizes)\n",
    "    train_scores_mean = np.mean(train_scores, axis=1)\n",
    "    train_scores_std = np.std(train_scores, axis=1)\n",
    "    test_scores_mean = np.mean(test_scores, axis=1)\n",
    "    test_scores_std = np.std(test_scores, axis=1)\n",
    "    plt.grid()\n",
    "    plt.fill_between(train_sizes, train_scores_mean - train_scores_std,\n",
    "                     train_scores_mean + train_scores_std, alpha=0.1,\n",
    "                     color=\"r\")\n",
    "    plt.fill_between(train_sizes, test_scores_mean - test_scores_std,\n",
    "                     test_scores_mean + test_scores_std, alpha=0.1, color=\"g\")\n",
    "    plt.plot(train_sizes, train_scores_mean, 'o-', color=\"r\",\n",
    "             label=\"Training score\")\n",
    "    plt.plot(train_sizes, test_scores_mean, 'o-', color=\"g\",\n",
    "             label=\"Cross-validation score\")\n",
    "\n",
    "    plt.legend(loc=\"best\")\n",
    "    return plt"
   ]
  },
  {
   "cell_type": "code",
   "execution_count": 56,
   "metadata": {},
   "outputs": [
    {
     "data": {
      "image/png": "[encoded data removed]",
      "text/plain": [
       "<Figure size 432x288 with 1 Axes>"
      ]
     },
     "metadata": {},
     "output_type": "display_data"
    }
   ],
   "source": [
    "cv = ShuffleSplit(n_splits=10, test_size=0.2, random_state=0)\n",
    "boston_ex = make_pipeline(MinMaxScaler(),\n",
    "                          PolynomialFeatures(degree=2, include_bias=False), \n",
    "                          LinearRegression()                          )\n",
    "boston_ex.fit(X, y)\n",
    "estimator = boston_ex\n",
    "plot_learning_curve(estimator, \"LR\", X, y, ylim=(0.6, 1.01), cv=cv, n_jobs=-1);"
   ]
  },
  {
   "cell_type": "code",
   "execution_count": 57,
   "metadata": {},
   "outputs": [
    {
     "data": {
      "image/png": "[encoded data removed]",
      "text/plain": [
       "<Figure size 432x288 with 1 Axes>"
      ]
     },
     "metadata": {},
     "output_type": "display_data"
    }
   ],
   "source": [
    "boston_ridge = make_pipeline(MinMaxScaler(),\n",
    "                          PolynomialFeatures(degree=2, include_bias=False), \n",
    "                          Ridge()                          )\n",
    "boston_ridge.fit(X, y)\n",
    "estimator = boston_ridge\n",
    "plot_learning_curve(estimator, \"Ridge\", X, y, ylim=(0.6, 1.01), cv=cv, n_jobs=-1)\n",
    "plt.show()"
   ]
  },
  {
   "cell_type": "markdown",
   "metadata": {},
   "source": [
    "### Lasso"
   ]
  },
  {
   "cell_type": "code",
   "execution_count": 68,
   "metadata": {},
   "outputs": [],
   "source": [
    "from sklearn.linear_model import Lasso"
   ]
  },
  {
   "cell_type": "code",
   "execution_count": 69,
   "metadata": {
    "scrolled": true
   },
   "outputs": [
    {
     "data": {
      "text/plain": [
       "Pipeline(memory=None,\n",
       "     steps=[('minmaxscaler', MinMaxScaler(copy=True, feature_range=(0, 1))), ('polynomialfeatures', PolynomialFeatures(degree=2, include_bias=False, interaction_only=False)), ('lasso', Lasso(alpha=1.0, copy_X=True, fit_intercept=True, max_iter=1000,\n",
       "   normalize=False, positive=False, precompute=False, random_state=None,\n",
       "   selection='cyclic', tol=0.0001, warm_start=False))])"
      ]
     },
     "execution_count": 69,
     "metadata": {},
     "output_type": "execute_result"
    }
   ],
   "source": [
    "boston_lasso=make_pipeline(MinMaxScaler(),\n",
    "                          PolynomialFeatures(degree=2, include_bias=False), \n",
    "                          Lasso()                          )\n",
    "boston_lasso.fit(X_train, y_train)"
   ]
  },
  {
   "cell_type": "code",
   "execution_count": 74,
   "metadata": {
    "scrolled": true
   },
   "outputs": [
    {
     "data": {
      "text/plain": [
       "array([-0.        ,  0.        , -0.        ,  0.        , -0.        ,\n",
       "        0.        , -0.        ,  0.        , -0.        , -0.        ,\n",
       "       -0.        ,  0.        , -6.46818465, -0.        ,  0.        ,\n",
       "       -0.        ,  0.        , -0.        , -0.        , -0.        ,\n",
       "       -0.        , -0.        , -0.        , -0.        , -0.        ,\n",
       "       -0.        ,  0.        ,  0.        ,  0.        ,  0.        ,\n",
       "        0.        ,  0.        ,  0.        ,  0.        ,  0.        ,\n",
       "        0.        ,  0.        ,  0.        , -0.        ,  0.        ,\n",
       "       -0.        , -0.        , -0.        , -0.        , -0.        ,\n",
       "       -0.        , -0.        , -0.        , -0.        ,  0.        ,\n",
       "        0.        ,  0.        ,  0.        ,  0.        ,  0.        ,\n",
       "        0.        ,  0.        ,  0.        ,  0.        , -0.        ,\n",
       "       -0.        , -0.        , -0.        , -0.        , -0.        ,\n",
       "       -0.        , -0.        , -0.        ,  0.        ,  0.        ,\n",
       "        0.        , -0.        , -0.        , -0.        ,  0.        ,\n",
       "       -0.        , -0.        ,  0.        , -0.        , -0.62643248,\n",
       "       -2.9639845 , -0.        , -0.        ,  0.        , -0.        ,\n",
       "       -0.        , -0.        ,  0.        , -0.        , -0.54909552,\n",
       "       -0.        , -0.        , -0.        , -0.        , -0.        ,\n",
       "       -0.        , -0.        , -0.        , -0.        , -0.        ,\n",
       "       -0.        ,  0.        , -0.        , -0.        ])"
      ]
     },
     "execution_count": 74,
     "metadata": {},
     "output_type": "execute_result"
    }
   ],
   "source": [
    "boston_lasso.named_steps['lasso'].coef_ "
   ]
  },
  {
   "cell_type": "code",
   "execution_count": 73,
   "metadata": {},
   "outputs": [
    {
     "data": {
      "text/plain": [
       "4"
      ]
     },
     "execution_count": 73,
     "metadata": {},
     "output_type": "execute_result"
    }
   ],
   "source": [
    "np.sum(boston_lasso.named_steps['lasso'].coef_ != 0)"
   ]
  },
  {
   "cell_type": "code",
   "execution_count": 71,
   "metadata": {},
   "outputs": [
    {
     "name": "stdout",
     "output_type": "stream",
     "text": [
      "R2 train: 0.31\n",
      "R2 test: 0.23\n"
     ]
    }
   ],
   "source": [
    "print(\"R2 train: {:.2f}\".format(boston_lasso.score(X_train, y_train))) \n",
    "print(\"R2 test: {:.2f}\".format(boston_lasso.score(X_test, y_test))) "
   ]
  },
  {
   "cell_type": "code",
   "execution_count": 96,
   "metadata": {},
   "outputs": [
    {
     "data": {
      "text/plain": [
       "Pipeline(memory=None,\n",
       "     steps=[('minmaxscaler', MinMaxScaler(copy=True, feature_range=(0, 1))), ('polynomialfeatures', PolynomialFeatures(degree=2, include_bias=False, interaction_only=False)), ('lasso', Lasso(alpha=0.01, copy_X=True, fit_intercept=True, max_iter=100000,\n",
       "   normalize=False, positive=False, precompute=False, random_state=None,\n",
       "   selection='cyclic', tol=0.0001, warm_start=False))])"
      ]
     },
     "execution_count": 96,
     "metadata": {},
     "output_type": "execute_result"
    }
   ],
   "source": [
    "boston_lasso=make_pipeline(MinMaxScaler(),\n",
    "                          PolynomialFeatures(degree=2, include_bias=False), \n",
    "                          Lasso(alpha=0.01, max_iter=100000) \n",
    "                         )\n",
    "boston_lasso.fit(X_train, y_train)"
   ]
  },
  {
   "cell_type": "code",
   "execution_count": 98,
   "metadata": {
    "scrolled": true
   },
   "outputs": [
    {
     "data": {
      "text/plain": [
       "array([ -0.        ,  -0.        ,  -0.        ,   0.        ,\n",
       "        -0.        ,   0.        ,  -0.        ,  -1.45424134,\n",
       "        11.08190153,   0.        ,   0.        ,   0.        ,\n",
       "        -1.3266586 ,  -0.        ,  -0.        ,  -0.        ,\n",
       "         0.        ,  -0.        ,  -0.        ,  -0.        ,\n",
       "        -0.        ,  -8.732056  ,  -0.        ,  -0.        ,\n",
       "        -0.        ,  -0.        ,   2.12359023,  -0.        ,\n",
       "         0.        ,  -0.        ,   0.        ,  -0.        ,\n",
       "         0.        ,   0.        ,  -0.        ,   0.        ,\n",
       "        -0.        ,  -0.        ,   0.        ,   0.        ,\n",
       "         0.        ,  -0.        ,   0.        ,  -3.73458542,\n",
       "         0.        ,   6.37481748,  -0.        ,  -0.        ,\n",
       "        -0.        ,   0.        ,  -4.38292961,  -2.14548209,\n",
       "         3.75192689,  -0.        ,   4.3189796 ,   0.        ,\n",
       "         0.        ,   0.23877447,  -0.        ,  -1.14091169,\n",
       "        -4.30262518,  -0.        ,  -0.        ,  -2.19945914,\n",
       "        -0.        ,  -1.78061721,  -0.        ,  -0.        ,\n",
       "        29.64616437,  -1.92241849,   0.        , -12.027058  ,\n",
       "       -11.11869991, -11.67817934,  12.9083808 , -10.19160996,\n",
       "        -0.        ,  -0.        ,   3.48877163,   0.        ,\n",
       "        -0.        ,  -0.        ,  -8.52156188,   0.        ,\n",
       "         0.        ,  -0.        ,   0.        ,  -7.22169735,\n",
       "        -0.        ,   0.        ,   0.72525264,   0.        ,\n",
       "         0.        ,  -7.46470332,   1.93843126,   0.        ,\n",
       "         0.        , -17.02406702,   0.        ,   0.        ,\n",
       "        -0.        ,   0.27492411,  -7.86329935,  17.55464987])"
      ]
     },
     "execution_count": 98,
     "metadata": {},
     "output_type": "execute_result"
    }
   ],
   "source": [
    "boston_lasso.named_steps['lasso'].coef_ "
   ]
  },
  {
   "cell_type": "code",
   "execution_count": 99,
   "metadata": {},
   "outputs": [
    {
     "data": {
      "text/plain": [
       "33"
      ]
     },
     "execution_count": 99,
     "metadata": {},
     "output_type": "execute_result"
    }
   ],
   "source": [
    "np.sum(boston_lasso.named_steps['lasso'].coef_ != 0)"
   ]
  },
  {
   "cell_type": "code",
   "execution_count": 97,
   "metadata": {},
   "outputs": [
    {
     "name": "stdout",
     "output_type": "stream",
     "text": [
      "R-квадрат на обучающем наборе: 0.90\n",
      "R-квадрат на тестовом наборе: 0.77\n"
     ]
    }
   ],
   "source": [
    "print(\"R-квадрат на обучающем наборе: {:.2f}\".format(boston_lasso.score(X_train, y_train))) \n",
    "print(\"R-квадрат на тестовом наборе: {:.2f}\".format(boston_lasso.score(X_test, y_test))) "
   ]
  },
  {
   "cell_type": "code",
   "execution_count": 101,
   "metadata": {},
   "outputs": [
    {
     "data": {
      "text/plain": [
       "Pipeline(memory=None,\n",
       "     steps=[('minmaxscaler', MinMaxScaler(copy=True, feature_range=(0, 1))), ('polynomialfeatures', PolynomialFeatures(degree=2, include_bias=False, interaction_only=False)), ('lasso', Lasso(alpha=0.0001, copy_X=True, fit_intercept=True, max_iter=100000,\n",
       "   normalize=False, positive=False, precompute=False, random_state=None,\n",
       "   selection='cyclic', tol=0.0001, warm_start=False))])"
      ]
     },
     "execution_count": 101,
     "metadata": {},
     "output_type": "execute_result"
    }
   ],
   "source": [
    "boston_lasso=make_pipeline(MinMaxScaler(),\n",
    "                          PolynomialFeatures(degree=2, include_bias=False), \n",
    "                          Lasso(alpha=0.0001, max_iter=100000) \n",
    "                         )\n",
    "boston_lasso.fit(X_train, y_train)"
   ]
  },
  {
   "cell_type": "code",
   "execution_count": 103,
   "metadata": {
    "scrolled": true
   },
   "outputs": [
    {
     "data": {
      "text/plain": [
       "array([-0.00000000e+00, -2.21225412e+01, -8.48922029e+01, -8.88313980e+00,\n",
       "       -3.19145355e+00,  3.80493613e+01,  4.79633027e+01, -3.76659978e+01,\n",
       "        2.77836086e+01,  0.00000000e+00, -8.02500060e-01,  2.49182919e+00,\n",
       "       -1.07995134e+01,  1.00676871e+01,  0.00000000e+00,  0.00000000e+00,\n",
       "        1.13239005e+02, -1.68282276e+01,  2.78498280e+01, -3.05358539e+01,\n",
       "        0.00000000e+00, -1.01573529e+01, -0.00000000e+00, -0.00000000e+00,\n",
       "       -4.02665153e-01,  2.96291105e+01, -8.18054467e+00, -1.41784665e+01,\n",
       "       -2.24649318e+00, -5.24583092e+01,  7.06863596e+00,  2.50986861e+00,\n",
       "       -7.17838177e+00, -2.93581679e+00,  2.58571812e+01, -5.14844625e+00,\n",
       "        3.31634588e+01, -1.23658836e+01,  3.03634644e+01, -1.08568191e+00,\n",
       "        1.82637230e+01,  4.76149478e+01,  1.24810660e+01,  4.16692692e+01,\n",
       "       -0.00000000e+00,  1.97295385e+01, -7.41461126e+00,  1.95527056e+01,\n",
       "       -1.25792008e+01, -1.53023130e+01, -1.65779934e+01, -3.12428948e+01,\n",
       "        8.10944877e+00, -3.20594957e+00,  9.13746949e+00, -3.84077744e+00,\n",
       "       -8.04996456e+00,  5.19124621e+01, -1.70074567e+01, -3.97996111e+00,\n",
       "        2.00476596e+01, -1.59281015e+01,  4.47129865e+01, -1.19884261e+01,\n",
       "        1.72997827e+01, -3.42940855e+01,  4.14880722e+00,  1.36796721e+01,\n",
       "        2.22043647e+01, -4.72116961e+01,  1.87130112e+01,  4.89847465e+00,\n",
       "       -5.97904401e+01, -2.61052018e+01,  8.61586532e+00, -4.76398795e+00,\n",
       "        4.89775296e-01, -1.74093040e+00,  3.83589828e+01, -3.08969739e+01,\n",
       "       -1.46134891e+00, -2.22469844e+01, -3.03203922e+01,  4.23783849e+01,\n",
       "       -6.31946905e+00, -7.95822667e+00, -1.36861973e+01, -2.18300101e+01,\n",
       "        2.29003625e+01, -8.90567779e+01,  1.11084754e+02, -8.99388999e+00,\n",
       "       -2.59005635e+01, -2.39298175e+01, -2.04378786e+01,  2.06765005e+01,\n",
       "        1.28451126e+01, -7.04893902e-01,  3.50816031e+00,  1.92758160e+01,\n",
       "        6.28314491e+00,  3.69445801e-02,  4.86042588e-01,  3.05933230e+01])"
      ]
     },
     "execution_count": 103,
     "metadata": {},
     "output_type": "execute_result"
    }
   ],
   "source": [
    "boston_lasso.named_steps['lasso'].coef_ "
   ]
  },
  {
   "cell_type": "code",
   "execution_count": 104,
   "metadata": {},
   "outputs": [
    {
     "data": {
      "text/plain": [
       "96"
      ]
     },
     "execution_count": 104,
     "metadata": {},
     "output_type": "execute_result"
    }
   ],
   "source": [
    "np.sum(boston_lasso.named_steps['lasso'].coef_ != 0)"
   ]
  },
  {
   "cell_type": "code",
   "execution_count": 102,
   "metadata": {},
   "outputs": [
    {
     "name": "stdout",
     "output_type": "stream",
     "text": [
      "R-квадрат на обучающем наборе: 0.95\n",
      "R-квадрат на тестовом наборе: 0.64\n"
     ]
    }
   ],
   "source": [
    "print(\"R-квадрат на обучающем наборе: {:.2f}\".format(boston_lasso.score(X_train, y_train))) \n",
    "print(\"R-квадрат на тестовом наборе: {:.2f}\".format(boston_lasso.score(X_test, y_test))) "
   ]
  }
 ],
 "metadata": {
  "kernelspec": {
   "display_name": "Python 3",
   "language": "python",
   "name": "python3"
  },
  "language_info": {
   "codemirror_mode": {
    "name": "ipython",
    "version": 3
   },
   "file_extension": ".py",
   "mimetype": "text/x-python",
   "name": "python",
   "nbconvert_exporter": "python",
   "pygments_lexer": "ipython3",
   "version": "3.6.5"
  }
 },
 "nbformat": 4,
 "nbformat_minor": 2
}
