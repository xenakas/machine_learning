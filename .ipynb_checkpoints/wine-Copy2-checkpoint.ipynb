{
 "cells": [
  {
   "cell_type": "code",
   "execution_count": 1,
   "metadata": {},
   "outputs": [],
   "source": [
    "import numpy as np \n",
    "import pandas as pd\n",
    "import seaborn as sns\n",
    "import matplotlib.pyplot as plt"
   ]
  },
  {
   "cell_type": "code",
   "execution_count": 2,
   "metadata": {},
   "outputs": [],
   "source": [
    "from sklearn.model_selection import train_test_split, GridSearchCV, cross_val_score, KFold\n",
    "from sklearn.preprocessing import StandardScaler, MinMaxScaler, RobustScaler, PolynomialFeatures\n",
    "from sklearn.metrics import confusion_matrix, classification_report, make_scorer, f1_score\n",
    "from sklearn.ensemble import RandomForestClassifier, GradientBoostingClassifier\n",
    "from sklearn.neighbors import KNeighborsClassifier\n",
    "from sklearn.linear_model import LogisticRegression\n",
    "from sklearn.pipeline import Pipeline"
   ]
  },
  {
   "cell_type": "code",
   "execution_count": 3,
   "metadata": {},
   "outputs": [],
   "source": [
    "wine = pd.read_csv('data/wine_train.csv')"
   ]
  },
  {
   "cell_type": "code",
   "execution_count": 4,
   "metadata": {},
   "outputs": [],
   "source": [
    "wine['quality'] = pd.cut(wine['quality'], bins = (2, 6.5, 9), labels = [0, 1])"
   ]
  },
  {
   "cell_type": "code",
   "execution_count": 6,
   "metadata": {},
   "outputs": [],
   "source": [
    "wine['mso2'] = wine['free sulfur dioxide'] / (1 + 10**(wine['pH'] - 1.81))"
   ]
  },
  {
   "cell_type": "code",
   "execution_count": 7,
   "metadata": {},
   "outputs": [],
   "source": [
    "X = wine.drop(['quality'], axis = 1)\n",
    "y = wine['quality'].tolist()"
   ]
  },
  {
   "cell_type": "code",
   "execution_count": 8,
   "metadata": {},
   "outputs": [],
   "source": [
    "X_train, X_test, y_train, y_test = train_test_split(X, y, test_size = 0.2, stratify = y, random_state = 0)"
   ]
  },
  {
   "cell_type": "code",
   "execution_count": 9,
   "metadata": {},
   "outputs": [],
   "source": [
    "f1_scorer = make_scorer(f1_score)"
   ]
  },
  {
   "cell_type": "code",
   "execution_count": 10,
   "metadata": {},
   "outputs": [],
   "source": [
    "kfold = KFold(n_splits=5, shuffle=True, random_state=0)\n",
    "\n",
    "pipe = Pipeline([('preprocessing', StandardScaler()), \n",
    "                 ('getfeatures',PolynomialFeatures()),\n",
    "                 ('classifier', KNeighborsClassifier())])"
   ]
  },
  {
   "cell_type": "code",
   "execution_count": 11,
   "metadata": {},
   "outputs": [
    {
     "data": {
      "text/html": [
       "<div>\n",
       "<style scoped>\n",
       "    .dataframe tbody tr th:only-of-type {\n",
       "        vertical-align: middle;\n",
       "    }\n",
       "\n",
       "    .dataframe tbody tr th {\n",
       "        vertical-align: top;\n",
       "    }\n",
       "\n",
       "    .dataframe thead th {\n",
       "        text-align: right;\n",
       "    }\n",
       "</style>\n",
       "<table border=\"1\" class=\"dataframe\">\n",
       "  <thead>\n",
       "    <tr style=\"text-align: right;\">\n",
       "      <th></th>\n",
       "      <th>mean_fit_time</th>\n",
       "      <th>std_fit_time</th>\n",
       "      <th>mean_score_time</th>\n",
       "      <th>std_score_time</th>\n",
       "      <th>param_classifier</th>\n",
       "      <th>param_classifier__n_neighbors</th>\n",
       "      <th>param_classifier__p</th>\n",
       "      <th>param_classifier__weights</th>\n",
       "      <th>param_getfeatures</th>\n",
       "      <th>param_getfeatures__degree</th>\n",
       "      <th>...</th>\n",
       "      <th>mean_test_score</th>\n",
       "      <th>std_test_score</th>\n",
       "      <th>rank_test_score</th>\n",
       "      <th>split0_train_score</th>\n",
       "      <th>split1_train_score</th>\n",
       "      <th>split2_train_score</th>\n",
       "      <th>split3_train_score</th>\n",
       "      <th>split4_train_score</th>\n",
       "      <th>mean_train_score</th>\n",
       "      <th>std_train_score</th>\n",
       "    </tr>\n",
       "  </thead>\n",
       "  <tbody>\n",
       "    <tr>\n",
       "      <th>516</th>\n",
       "      <td>0.191651</td>\n",
       "      <td>0.003036</td>\n",
       "      <td>0.014792</td>\n",
       "      <td>0.000419</td>\n",
       "      <td>(DecisionTreeClassifier(class_weight=None, cri...</td>\n",
       "      <td>NaN</td>\n",
       "      <td>NaN</td>\n",
       "      <td>NaN</td>\n",
       "      <td>PolynomialFeatures(degree=1, include_bias=True...</td>\n",
       "      <td>1</td>\n",
       "      <td>...</td>\n",
       "      <td>0.554432</td>\n",
       "      <td>0.131741</td>\n",
       "      <td>1</td>\n",
       "      <td>1.0</td>\n",
       "      <td>1.0</td>\n",
       "      <td>1.0</td>\n",
       "      <td>1.0</td>\n",
       "      <td>1.0</td>\n",
       "      <td>1.0</td>\n",
       "      <td>0.0</td>\n",
       "    </tr>\n",
       "    <tr>\n",
       "      <th>522</th>\n",
       "      <td>0.233694</td>\n",
       "      <td>0.018787</td>\n",
       "      <td>0.017165</td>\n",
       "      <td>0.000922</td>\n",
       "      <td>(DecisionTreeClassifier(class_weight=None, cri...</td>\n",
       "      <td>NaN</td>\n",
       "      <td>NaN</td>\n",
       "      <td>NaN</td>\n",
       "      <td>PolynomialFeatures(degree=1, include_bias=True...</td>\n",
       "      <td>1</td>\n",
       "      <td>...</td>\n",
       "      <td>0.554432</td>\n",
       "      <td>0.131741</td>\n",
       "      <td>1</td>\n",
       "      <td>1.0</td>\n",
       "      <td>1.0</td>\n",
       "      <td>1.0</td>\n",
       "      <td>1.0</td>\n",
       "      <td>1.0</td>\n",
       "      <td>1.0</td>\n",
       "      <td>0.0</td>\n",
       "    </tr>\n",
       "  </tbody>\n",
       "</table>\n",
       "<p>2 rows × 30 columns</p>\n",
       "</div>"
      ],
      "text/plain": [
       "     mean_fit_time  std_fit_time  mean_score_time  std_score_time  \\\n",
       "516       0.191651      0.003036         0.014792        0.000419   \n",
       "522       0.233694      0.018787         0.017165        0.000922   \n",
       "\n",
       "                                      param_classifier  \\\n",
       "516  (DecisionTreeClassifier(class_weight=None, cri...   \n",
       "522  (DecisionTreeClassifier(class_weight=None, cri...   \n",
       "\n",
       "    param_classifier__n_neighbors param_classifier__p  \\\n",
       "516                           NaN                 NaN   \n",
       "522                           NaN                 NaN   \n",
       "\n",
       "    param_classifier__weights  \\\n",
       "516                       NaN   \n",
       "522                       NaN   \n",
       "\n",
       "                                     param_getfeatures  \\\n",
       "516  PolynomialFeatures(degree=1, include_bias=True...   \n",
       "522  PolynomialFeatures(degree=1, include_bias=True...   \n",
       "\n",
       "    param_getfeatures__degree       ...        mean_test_score std_test_score  \\\n",
       "516                         1       ...               0.554432       0.131741   \n",
       "522                         1       ...               0.554432       0.131741   \n",
       "\n",
       "    rank_test_score split0_train_score split1_train_score  split2_train_score  \\\n",
       "516               1                1.0                1.0                 1.0   \n",
       "522               1                1.0                1.0                 1.0   \n",
       "\n",
       "     split3_train_score  split4_train_score  mean_train_score  std_train_score  \n",
       "516                 1.0                 1.0               1.0              0.0  \n",
       "522                 1.0                 1.0               1.0              0.0  \n",
       "\n",
       "[2 rows x 30 columns]"
      ]
     },
     "execution_count": 11,
     "metadata": {},
     "output_type": "execute_result"
    }
   ],
   "source": [
    "param_grid =[\n",
    "    {'preprocessing': [MinMaxScaler(), StandardScaler(),RobustScaler()],\n",
    "     'getfeatures': [PolynomialFeatures()],\n",
    "     'getfeatures__degree': [1,2],\n",
    "     'classifier': [KNeighborsClassifier()],\n",
    "     'classifier__n_neighbors': [4, 5, 7, 10,12,15,20],\n",
    "     'classifier__p': [1, 2, 3, 4, 6, 8],\n",
    "     'classifier__weights': ['uniform','distance'],\n",
    "       },\n",
    "    {'preprocessing': [MinMaxScaler(), StandardScaler(),RobustScaler()],\n",
    "     'getfeatures': [PolynomialFeatures()],\n",
    "     'getfeatures__degree': [1,2],\n",
    "     'classifier': [RandomForestClassifier()],\n",
    "     'classifier__n_estimators': [100],\n",
    "     'classifier__max_depth': [5,10,25,None],\n",
    "     'classifier__random_state': [0] \n",
    "       }, \n",
    "    {'preprocessing': [MinMaxScaler(), StandardScaler(),RobustScaler()],\n",
    "     'getfeatures': [PolynomialFeatures()],\n",
    "     'getfeatures__degree': [1,2],\n",
    "     'classifier': [GradientBoostingClassifier()],\n",
    "     'classifier__n_estimators': [100],\n",
    "     'classifier__random_state': [0] \n",
    "       }\n",
    "   \n",
    "    \n",
    "    #,\n",
    "#     {'preprocessing': [MinMaxScaler(), StandardScaler(),RobustScaler()],\n",
    "#      'getfeatures': [PolynomialFeatures()],\n",
    "#      'getfeatures__degree': [1,2],\n",
    "#      'classifier': [LogisticRegression()],\n",
    "#      'classifier__penalty': [ 'l1', 'l2'], \n",
    "#      'classifier__C': [ 0.01, 0.1, 0.5, 0.7, 0.9, 1, 10, 100]    \n",
    "     \n",
    "#        }\n",
    "]\n",
    "\n",
    "\n",
    "CV_find = GridSearchCV(pipe, param_grid, return_train_score=True, cv=kfold , iid=True, n_jobs=-1,scoring=f1_scorer)\n",
    "CV_find.fit(X_train, y_train)\n",
    "res=pd.DataFrame(CV_find.cv_results_)\n",
    "res[res['rank_test_score']==1]"
   ]
  },
  {
   "cell_type": "code",
   "execution_count": 12,
   "metadata": {},
   "outputs": [
    {
     "data": {
      "text/plain": [
       "Pipeline(memory=None,\n",
       "     steps=[('preprocessing', MinMaxScaler(copy=True, feature_range=(0, 1))), ('getfeatures', PolynomialFeatures(degree=1, include_bias=True, interaction_only=False)), ('classifier', RandomForestClassifier(bootstrap=True, class_weight=None, criterion='gini',\n",
       "            max_depth=25, max_features='auto',...mators=100, n_jobs=None,\n",
       "            oob_score=False, random_state=0, verbose=0, warm_start=False))])"
      ]
     },
     "execution_count": 12,
     "metadata": {},
     "output_type": "execute_result"
    }
   ],
   "source": [
    "CV_find.best_estimator_"
   ]
  },
  {
   "cell_type": "code",
   "execution_count": 13,
   "metadata": {},
   "outputs": [],
   "source": [
    "model = CV_find.best_estimator_\n",
    "model.fit(X_train, y_train)\n",
    "y_pred=model.predict(X_test)"
   ]
  },
  {
   "cell_type": "code",
   "execution_count": 14,
   "metadata": {},
   "outputs": [
    {
     "name": "stdout",
     "output_type": "stream",
     "text": [
      "Правильность на обучающем наборе: 1.00000\n",
      "Правильность на тестовом наборе: 0.92500\n",
      "f1 на тестовом наборе: 0.64000\n"
     ]
    }
   ],
   "source": [
    "print('Правильность на обучающем наборе: {:.5f}'.format(model.score(X_train, y_train)))\n",
    "print('Правильность на тестовом наборе: {:.5f}'.format(model.score(X_test, y_test)))\n",
    "print('f1 на тестовом наборе: {:.5f}'.format(f1_score(y_test, y_pred)))"
   ]
  },
  {
   "cell_type": "code",
   "execution_count": 15,
   "metadata": {},
   "outputs": [
    {
     "data": {
      "image/png": "[encoded data removed]",
      "text/plain": [
       "<Figure size 432x288 with 1 Axes>"
      ]
     },
     "metadata": {},
     "output_type": "display_data"
    }
   ],
   "source": [
    "matrix=confusion_matrix(y_test,y_pred)\n",
    "sns.heatmap(matrix,annot=True, fmt='g', cbar=None,cmap=\"Blues\")\n",
    "plt.show()"
   ]
  },
  {
   "cell_type": "code",
   "execution_count": 16,
   "metadata": {},
   "outputs": [
    {
     "name": "stdout",
     "output_type": "stream",
     "text": [
      "              precision    recall  f1-score   support\n",
      "\n",
      "           0       0.93      0.99      0.96       208\n",
      "           1       0.89      0.50      0.64        32\n",
      "\n",
      "   micro avg       0.93      0.93      0.93       240\n",
      "   macro avg       0.91      0.75      0.80       240\n",
      "weighted avg       0.92      0.93      0.92       240\n",
      "\n"
     ]
    }
   ],
   "source": [
    "report = classification_report(y_test, y_pred)\n",
    "print(report)"
   ]
  },
  {
   "cell_type": "markdown",
   "metadata": {},
   "source": [
    "#### Проверка:"
   ]
  },
  {
   "cell_type": "code",
   "execution_count": null,
   "metadata": {},
   "outputs": [],
   "source": [
    "df_test = pd.read_csv('wine_test.csv')"
   ]
  },
  {
   "cell_type": "code",
   "execution_count": null,
   "metadata": {},
   "outputs": [],
   "source": [
    "df_test['quality'] = pd.cut(df_test['quality'], bins = (2, 6.5, 9), labels = [0, 1])\n",
    "df_test['mso2'] = df_test['free sulfur dioxide'] / (1 + 10**(df_test['pH'] - 1.81))"
   ]
  },
  {
   "cell_type": "code",
   "execution_count": null,
   "metadata": {},
   "outputs": [],
   "source": [
    "X = df_test.drop(['quality'], axis = 1)\n",
    "y = df_test['quality'].tolist()"
   ]
  },
  {
   "cell_type": "code",
   "execution_count": null,
   "metadata": {},
   "outputs": [],
   "source": [
    "y_pred=model.predict(X)\n",
    "matrix=confusion_matrix(y,y_pred)\n",
    "sns.heatmap(matrix, annot=True, fmt='g', cbar=None, cmap=\"Blues\")\n",
    "plt.show()\n",
    "report = classification_report(y, y_pred)\n",
    "print(report)\n",
    "print('Правильность на проверочном наборе: {:.10f}'.format(model.score(X, y)))\n",
    "print('f1 на проверочном наборе: {:.10f}'.format(f1_score(y, y_pred)))"
   ]
  }
 ],
 "metadata": {
  "kernelspec": {
   "display_name": "Python 3",
   "language": "python",
   "name": "python3"
  },
  "language_info": {
   "codemirror_mode": {
    "name": "ipython",
    "version": 3
   },
   "file_extension": ".py",
   "mimetype": "text/x-python",
   "name": "python",
   "nbconvert_exporter": "python",
   "pygments_lexer": "ipython3",
   "version": "3.6.5"
  }
 },
 "nbformat": 4,
 "nbformat_minor": 2
}
